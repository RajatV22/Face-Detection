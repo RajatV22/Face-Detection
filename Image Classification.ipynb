{
 "cells": [
  {
   "cell_type": "code",
   "execution_count": 1,
   "id": "17c8a009",
   "metadata": {},
   "outputs": [],
   "source": [
    "import numpy as np\n",
    "from keras.models import Sequential\n",
    "from keras.layers import Dropout, Dense, Flatten\n",
    "from tensorflow.keras.optimizers import SGD\n",
    "from keras.layers.convolutional import Conv2D, MaxPooling2D\n",
    "from keras.utils import np_utils as u\n",
    "from keras.datasets import cifar10"
   ]
  },
  {
   "cell_type": "code",
   "execution_count": 2,
   "id": "f5849edd",
   "metadata": {},
   "outputs": [],
   "source": [
    "#Lets start by loading the Cifar10 data\n",
    "(X_train, y_train), (X_test, y_test) = cifar10.load_data()"
   ]
  },
  {
   "cell_type": "code",
   "execution_count": 3,
   "id": "e337d3b6",
   "metadata": {},
   "outputs": [
    {
     "data": {
      "text/plain": [
       "((50000, 32, 32, 3), (10000, 32, 32, 3))"
      ]
     },
     "execution_count": 3,
     "metadata": {},
     "output_type": "execute_result"
    }
   ],
   "source": [
    "X_train.shape, X_test.shape"
   ]
  },
  {
   "cell_type": "code",
   "execution_count": 4,
   "id": "525aaa6f",
   "metadata": {},
   "outputs": [
    {
     "data": {
      "text/plain": [
       "<matplotlib.image.AxesImage at 0x2aebad8ae50>"
      ]
     },
     "execution_count": 4,
     "metadata": {},
     "output_type": "execute_result"
    },
    {
     "data": {
      "image/png": "[encoded data removed]",
      "text/plain": [
       "<Figure size 432x288 with 1 Axes>"
      ]
     },
     "metadata": {
      "needs_background": "light"
     },
     "output_type": "display_data"
    }
   ],
   "source": [
    "import matplotlib.pyplot as plt\n",
    "plt.imshow((X_train[148])) #plottig an image for testing"
   ]
  },
  {
   "cell_type": "code",
   "execution_count": 5,
   "id": "bc27fe7a",
   "metadata": {},
   "outputs": [],
   "source": [
    "X_train = X_train.astype('float32')/255.0\n",
    "X_test =  X_test.astype('float32')/255.0"
   ]
  },
  {
   "cell_type": "code",
   "execution_count": 6,
   "id": "90a5d6a6",
   "metadata": {},
   "outputs": [],
   "source": [
    "y_train = u.to_categorical(y_train, 10)\n",
    "y_test = u.to_categorical(y_test, 10)"
   ]
  },
  {
   "cell_type": "code",
   "execution_count": 7,
   "id": "74cd37ab",
   "metadata": {},
   "outputs": [],
   "source": [
    "# Now we can go ahead and create our Convolution model\n",
    "model = Sequential()\n",
    "# We want to output 32 features maps. The kernel size is going to be #3x3 and \n",
    "# we specify our input shape to be 32x32 with 3 channels\n",
    "# Padding=same means we want the same dimensional output as input\n",
    "# activation specifies the activation function\n",
    "model.add(Conv2D(32, (3, 3), input_shape=(32, 32, 3), padding='same', activation='relu'))\n",
    "#20% of the nodes are set to 0\n",
    "model.add(Dropout(0.2))\n",
    "#now we add another convolution layer, again with a 3x3 kernel\n",
    "#padding=valid this means that the output dimension can take any form\n",
    "model.add(Conv2D(32, (3, 3), activation='relu', padding='valid'))\n",
    "#maxpool with a kernet of 2x2"
   ]
  },
  {
   "cell_type": "code",
   "execution_count": 8,
   "id": "704fcd72",
   "metadata": {},
   "outputs": [],
   "source": [
    "model.add(MaxPooling2D(pool_size=(2, 2)))\n",
    "#we neet to flatten our data before we can\n",
    "#input it into the ouput/dense layer\n",
    "model.add(Flatten())\n",
    "#Dense layer with 512 hidden units\n",
    "model.add(Dense(512, activation='relu'))\n",
    "#this time we set 30% of the nodes to 0 to minimize overfitting\n",
    "model.add(Dropout(0.3))\n",
    "#Finally the output dense layer with 10 hidden units corresponding to our 10 classe\n",
    "model.add(Dense(10, activation='softmax'))"
   ]
  },
  {
   "cell_type": "code",
   "execution_count": 9,
   "id": "bc4ea243",
   "metadata": {},
   "outputs": [],
   "source": [
    "#Few simple configurations\n",
    "epochs = 5\n",
    "lrate = 0.01\n",
    "decay = lrate/epochs\n",
    "sgd = SGD(learning_rate=lrate, momentum=0.9, decay=decay, nesterov=False)\n",
    "model.compile(loss='categorical_crossentropy', optimizer=sgd, metrics=['accuracy'])"
   ]
  },
  {
   "cell_type": "code",
   "execution_count": 10,
   "id": "3430e9b2",
   "metadata": {},
   "outputs": [],
   "source": [
    "model.compile?"
   ]
  },
  {
   "cell_type": "code",
   "execution_count": 11,
   "id": "17897611",
   "metadata": {},
   "outputs": [
    {
     "name": "stdout",
     "output_type": "stream",
     "text": [
      "Epoch 1/5\n",
      "782/782 [==============================] - 107s 135ms/step - loss: 1.6873 - accuracy: 0.3923 - val_loss: 1.4287 - val_accuracy: 0.4938\n",
      "Epoch 2/5\n",
      "782/782 [==============================] - 106s 136ms/step - loss: 1.3558 - accuracy: 0.5116 - val_loss: 1.2521 - val_accuracy: 0.5617\n",
      "Epoch 3/5\n",
      "782/782 [==============================] - 106s 135ms/step - loss: 1.2241 - accuracy: 0.5640 - val_loss: 1.1825 - val_accuracy: 0.5851\n",
      "Epoch 4/5\n",
      "782/782 [==============================] - 106s 136ms/step - loss: 1.1396 - accuracy: 0.5990 - val_loss: 1.1303 - val_accuracy: 0.6023\n",
      "Epoch 5/5\n",
      "782/782 [==============================] - 105s 135ms/step - loss: 1.0777 - accuracy: 0.6194 - val_loss: 1.1006 - val_accuracy: 0.6145\n"
     ]
    }
   ],
   "source": [
    "#Run the algorithm!\n",
    "history = model.fit(X_train, y_train, validation_data=(X_test, y_test), epochs=epochs, batch_size=64)"
   ]
  },
  {
   "cell_type": "code",
   "execution_count": 12,
   "id": "698e6971",
   "metadata": {},
   "outputs": [
    {
     "name": "stdout",
     "output_type": "stream",
     "text": [
      "1/1 [==============================] - 0s 312ms/step\n"
     ]
    },
    {
     "data": {
      "text/plain": [
       "array([3, 8, 8, 0, 4], dtype=int64)"
      ]
     },
     "execution_count": 12,
     "metadata": {},
     "output_type": "execute_result"
    }
   ],
   "source": [
    "#print(model.predict_classes(X_test[0:5]))\n",
    "predictions = np.argmax(model.predict(X_test[0:5]), axis=1)\n",
    "predictions"
   ]
  },
  {
   "cell_type": "code",
   "execution_count": 13,
   "id": "2192bd70",
   "metadata": {},
   "outputs": [
    {
     "data": {
      "image/png": "[encoded data removed]",
      "text/plain": [
       "<Figure size 432x288 with 1 Axes>"
      ]
     },
     "metadata": {
      "needs_background": "light"
     },
     "output_type": "display_data"
    },
    {
     "data": {
      "image/png": "[encoded data removed]",
      "text/plain": [
       "<Figure size 432x288 with 1 Axes>"
      ]
     },
     "metadata": {
      "needs_background": "light"
     },
     "output_type": "display_data"
    }
   ],
   "source": [
    "acc = history.history['accuracy']\n",
    "val_acc = history.history['val_accuracy']\n",
    "\n",
    "loss = history.history['loss']\n",
    "val_loss = history.history['val_loss']\n",
    "plt.plot(range(epochs), acc, \"b\", label=\"Training Accuracy\")\n",
    "plt.plot(range(epochs), val_acc, \"r\", label=\"Validation Accuracy\")\n",
    "plt.legend()\n",
    "\n",
    "plt.figure()\n",
    "plt.plot(range(epochs), loss, \"g\", label=\"Training Loss\")\n",
    "plt.plot(range(epochs), val_loss, \"orange\", label=\"Validation Loss\")\n",
    "plt.legend()\n",
    "\n",
    "plt.show()"
   ]
  },
  {
   "cell_type": "code",
   "execution_count": null,
   "id": "f8090d90",
   "metadata": {},
   "outputs": [],
   "source": []
  }
 ],
 "metadata": {
  "kernelspec": {
   "display_name": "Python 3 (ipykernel)",
   "language": "python",
   "name": "python3"
  },
  "language_info": {
   "codemirror_mode": {
    "name": "ipython",
    "version": 3
   },
   "file_extension": ".py",
   "mimetype": "text/x-python",
   "name": "python",
   "nbconvert_exporter": "python",
   "pygments_lexer": "ipython3",
   "version": "3.9.7"
  }
 },
 "nbformat": 4,
 "nbformat_minor": 5
}
