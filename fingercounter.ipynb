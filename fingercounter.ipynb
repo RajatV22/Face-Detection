{
 "cells": [
  {
   "cell_type": "code",
   "execution_count": 1,
   "id": "508d3068",
   "metadata": {},
   "outputs": [
    {
     "name": "stdout",
     "output_type": "stream",
     "text": [
      "Collecting mediapipe\n",
      "  Downloading mediapipe-0.9.0.1-cp39-cp39-win_amd64.whl (49.8 MB)\n",
      "Requirement already satisfied: absl-py in c:\\users\\rvsha\\anaconda3\\lib\\site-packages (from mediapipe) (1.3.0)\n",
      "Requirement already satisfied: numpy in c:\\users\\rvsha\\anaconda3\\lib\\site-packages (from mediapipe) (1.22.4)\n",
      "Requirement already satisfied: matplotlib in c:\\users\\rvsha\\anaconda3\\lib\\site-packages (from mediapipe) (3.4.3)\n",
      "Requirement already satisfied: flatbuffers>=2.0 in c:\\users\\rvsha\\anaconda3\\lib\\site-packages (from mediapipe) (22.10.26)\n",
      "Requirement already satisfied: attrs>=19.1.0 in c:\\users\\rvsha\\anaconda3\\lib\\site-packages (from mediapipe) (21.2.0)\n",
      "Requirement already satisfied: protobuf<4,>=3.11 in c:\\users\\rvsha\\anaconda3\\lib\\site-packages (from mediapipe) (3.19.6)\n",
      "Requirement already satisfied: opencv-contrib-python in c:\\users\\rvsha\\appdata\\roaming\\python\\python39\\site-packages (from mediapipe) (4.6.0.66)\n",
      "Requirement already satisfied: cycler>=0.10 in c:\\users\\rvsha\\anaconda3\\lib\\site-packages (from matplotlib->mediapipe) (0.10.0)\n",
      "Requirement already satisfied: pyparsing>=2.2.1 in c:\\users\\rvsha\\anaconda3\\lib\\site-packages (from matplotlib->mediapipe) (3.0.4)\n",
      "Requirement already satisfied: python-dateutil>=2.7 in c:\\users\\rvsha\\anaconda3\\lib\\site-packages (from matplotlib->mediapipe) (2.8.2)\n",
      "Requirement already satisfied: kiwisolver>=1.0.1 in c:\\users\\rvsha\\anaconda3\\lib\\site-packages (from matplotlib->mediapipe) (1.3.1)\n",
      "Requirement already satisfied: pillow>=6.2.0 in c:\\users\\rvsha\\anaconda3\\lib\\site-packages (from matplotlib->mediapipe) (8.4.0)\n",
      "Requirement already satisfied: six in c:\\users\\rvsha\\anaconda3\\lib\\site-packages (from cycler>=0.10->matplotlib->mediapipe) (1.12.0)\n",
      "Installing collected packages: mediapipe\n",
      "Successfully installed mediapipe-0.9.0.1\n"
     ]
    }
   ],
   "source": [
    "# install library\n",
    "!pip install mediapipe"
   ]
  },
  {
   "cell_type": "code",
   "execution_count": 2,
   "id": "696ef2a8",
   "metadata": {},
   "outputs": [],
   "source": [
    "import cv2\n",
    "import mediapipe as mp"
   ]
  },
  {
   "cell_type": "code",
   "execution_count": 3,
   "id": "d4c11a81",
   "metadata": {},
   "outputs": [],
   "source": [
    "cap = cv2.VideoCapture(0)\n",
    "mp_Hands = mp.solutions.hands\n",
    "hands = mp_Hands.Hands()\n",
    "mpDraw = mp.solutions.drawing_utils\n",
    "finger_Coord = [(8, 6), (12, 10), (16, 14), (20, 18)]\n",
    "thumb_Coord = (4,2)"
   ]
  },
  {
   "cell_type": "code",
   "execution_count": 4,
   "id": "d6671ff1",
   "metadata": {},
   "outputs": [],
   "source": [
    "while True:\n",
    "    success, image = cap.read()\n",
    "    RGB_image = cv2.cvtColor(image, cv2.COLOR_BGR2RGB)\n",
    "    results = hands.process(RGB_image)\n",
    "    multiLandMarks = results.multi_hand_landmarks\n",
    "    # drawing landmarks\n",
    "    # nested for loop to enable us to work on one hand at a time \n",
    "    # and draw the hand landmarks present on each hand\n",
    "    if multiLandMarks:\n",
    "        handList = []\n",
    "        for handLms in multiLandMarks:\n",
    "            mpDraw.draw_landmarks(image, handLms, mp_Hands.HAND_CONNECTIONS)\n",
    "            for idx, lm in enumerate(handLms.landmark):\n",
    "                # Changing the hand points coordinates into image pixels\n",
    "                h, w, c = image.shape # get the height, width, and color channel\n",
    "                # get the x and y coordinates of each hand point\n",
    "                cx, cy = int(lm.x * w), int(lm.y * h)\n",
    "                # save these hand points in the list\n",
    "                handList.append((cx, cy))\n",
    "            # circle each hand point to ensure correct handpoints\n",
    "            for point in handList:\n",
    "                cv2.circle(image, point, 10, (255, 255, 0), cv2.FILLED)\n",
    "                \n",
    "            # Checking whether a finger is open or closed\n",
    "            upCount = 0\n",
    "            for coordinate in finger_Coord:\n",
    "                if handList[coordinate[0]][1] < handList[coordinate[1]][1]:\n",
    "                    upCount += 1\n",
    "            if handList[thumb_Coord[0]][0] > handList[thumb_Coord[1]][0]:\n",
    "                upCount += 1\n",
    "            # displaying the output\n",
    "            cv2.putText(image, str(upCount), (150,150), cv2.FONT_HERSHEY_PLAIN, 12, (0,255,0), 12)\n",
    "\n",
    "    cv2.imshow(\"Counting number of fingers\", image)\n",
    "    k = cv2.waitKey(1)& 0xFF\n",
    "    if k == 27:\n",
    "        break\n",
    "cap.release()\n",
    "cv2.destroyAllWindows()"
   ]
  },
  {
   "cell_type": "code",
   "execution_count": null,
   "id": "73e353de",
   "metadata": {},
   "outputs": [],
   "source": []
  }
 ],
 "metadata": {
  "kernelspec": {
   "display_name": "Python 3 (ipykernel)",
   "language": "python",
   "name": "python3"
  },
  "language_info": {
   "codemirror_mode": {
    "name": "ipython",
    "version": 3
   },
   "file_extension": ".py",
   "mimetype": "text/x-python",
   "name": "python",
   "nbconvert_exporter": "python",
   "pygments_lexer": "ipython3",
   "version": "3.9.7"
  }
 },
 "nbformat": 4,
 "nbformat_minor": 5
}
