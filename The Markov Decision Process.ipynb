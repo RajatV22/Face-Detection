{
 "cells": [
  {
   "cell_type": "code",
   "execution_count": 1,
   "id": "c61d77ed",
   "metadata": {},
   "outputs": [],
   "source": [
    "from collections import defaultdict, namedtuple\n",
    "from enum import Enum\n",
    "from typing import Tuple, List\n",
    "import random\n",
    "from IPython.display import clear_output\n",
    "\n",
    "Point = namedtuple('Point', ['x', 'y'])\n",
    "class Direction(Enum):\n",
    "    NORTH = \"⬆\"\n",
    "    EAST = \"⮕\"\n",
    "    SOUTH = \"⬇\"\n",
    "    WEST = \"⬅\"\n",
    "\n",
    "    @classmethod\n",
    "    def values(self):\n",
    "        return [v for v in self]"
   ]
  },
  {
   "cell_type": "code",
   "execution_count": 2,
   "id": "906e8a9f",
   "metadata": {},
   "outputs": [],
   "source": [
    "class SimpleGridWorld(object):\n",
    "    def __init__(self, width: int = 5, height: int = 5, debug: bool = False):\n",
    "        self.width = width\n",
    "        self.height = height\n",
    "        self.debug = debug\n",
    "        self.action_space = [d for d in Direction]\n",
    "        self.reset()"
   ]
  },
  {
   "cell_type": "code",
   "execution_count": 3,
   "id": "720b4b13",
   "metadata": {},
   "outputs": [],
   "source": [
    "class SimpleGridWorld(SimpleGridWorld):\n",
    "    def reset(self):\n",
    "        self.cur_pos = Point(x=0, y=(self.height - 1))\n",
    "        self.goal = Point(x=(self.width - 1), y=0)\n",
    "        # If debug, print state\n",
    "        if self.debug:\n",
    "            print(self)\n",
    "        return self.cur_pos, 0, False"
   ]
  },
  {
   "cell_type": "code",
   "execution_count": 4,
   "id": "51400738",
   "metadata": {},
   "outputs": [],
   "source": [
    "class SimpleGridWorld(SimpleGridWorld):\n",
    "    def step(self, action: Direction):\n",
    "        # Depending on the action, mutate the environment state\n",
    "        if action == Direction.NORTH:\n",
    "            self.cur_pos = Point(self.cur_pos.x, self.cur_pos.y + 1)\n",
    "        elif action == Direction.EAST:\n",
    "            self.cur_pos = Point(self.cur_pos.x + 1, self.cur_pos.y)\n",
    "        elif action == Direction.SOUTH:\n",
    "            self.cur_pos = Point(self.cur_pos.x, self.cur_pos.y - 1)\n",
    "        elif action == Direction.WEST:\n",
    "            self.cur_pos = Point(self.cur_pos.x - 1, self.cur_pos.y)\n",
    "        # Check if out of bounds\n",
    "        if self.cur_pos.x >= self.width:\n",
    "            self.cur_pos = Point(self.width - 1, self.cur_pos.y)\n",
    "        if self.cur_pos.y >= self.height:\n",
    "            self.cur_pos = Point(self.width, self.cur_pos.y - 1)\n",
    "        if self.cur_pos.x < 0:\n",
    "            self.cur_pos = Point(0, self.cur_pos.y)\n",
    "        if self.cur_pos.y < 0:\n",
    "            self.cur_pos = Point(self.cur_pos.x, 0)\n",
    "\n",
    "        # If at goal, terminate\n",
    "        is_terminal = self.cur_pos == self.goal\n",
    "\n",
    "        # Constant -1 reward to promote speed-to-goal\n",
    "        reward = -1\n",
    "\n",
    "        # If debug, print state\n",
    "        if self.debug:\n",
    "            print(self)\n",
    "\n",
    "        return self.cur_pos, reward, is_terminal"
   ]
  },
  {
   "cell_type": "code",
   "execution_count": 5,
   "id": "900f7971",
   "metadata": {},
   "outputs": [],
   "source": [
    "class SimpleGridWorld(SimpleGridWorld):\n",
    "    def __repr__(self):\n",
    "        res = \"\"\n",
    "        for y in reversed(range(self.height)):\n",
    "            for x in range(self.width):\n",
    "                if self.goal.x == x and self.goal.y == y:\n",
    "                    if self.cur_pos.x == x and self.cur_pos.y == y:\n",
    "                        res += \"@\"\n",
    "                    else:\n",
    "                        res += \"o\"\n",
    "                    continue\n",
    "                \n",
    "                if self.cur_pos.x == x and self.cur_pos.y == y:\n",
    "                    res += \"x\"\n",
    "                else:\n",
    "                    res += \"_\"\n",
    "            res += \"\\n\"\n",
    "        return res"
   ]
  },
  {
   "cell_type": "code",
   "execution_count": 6,
   "id": "34f8258e",
   "metadata": {},
   "outputs": [
    {
     "name": "stdout",
     "output_type": "stream",
     "text": [
      "x____\n",
      "_____\n",
      "_____\n",
      "_____\n",
      "____o\n",
      "\n",
      "☝ This shows a simple visualisation of the environment state.\n",
      "\n",
      "_____\n",
      "x____\n",
      "_____\n",
      "_____\n",
      "____o\n",
      "\n",
      "_____\n",
      "_____\n",
      "x____\n",
      "_____\n",
      "____o\n",
      "\n",
      "(Point(x=0, y=2), -1, False) ⬅ This displays the state and reward from the environment 𝐀𝐅𝐓𝐄𝐑 moving.\n",
      "\n",
      "_____\n",
      "_____\n",
      "_____\n",
      "x____\n",
      "____o\n",
      "\n",
      "_____\n",
      "_____\n",
      "_____\n",
      "_____\n",
      "x___o\n",
      "\n",
      "_____\n",
      "_____\n",
      "_____\n",
      "_____\n",
      "_x__o\n",
      "\n",
      "_____\n",
      "_____\n",
      "_____\n",
      "_____\n",
      "__x_o\n",
      "\n",
      "_____\n",
      "_____\n",
      "_____\n",
      "_____\n",
      "___xo\n",
      "\n",
      "_____\n",
      "_____\n",
      "_____\n",
      "_____\n",
      "____@\n",
      "\n"
     ]
    },
    {
     "data": {
      "text/plain": [
       "(Point(x=4, y=0), -1, True)"
      ]
     },
     "execution_count": 6,
     "metadata": {},
     "output_type": "execute_result"
    }
   ],
   "source": [
    "s = SimpleGridWorld(debug=True)\n",
    "print(\"☝ This shows a simple visualisation of the environment state.\\n\")\n",
    "s.step(Direction.SOUTH)\n",
    "print(s.step(Direction.SOUTH), \"⬅ This displays the state and reward from the environment 𝐀𝐅𝐓𝐄𝐑 moving.\\n\")\n",
    "s.step(Direction.SOUTH)\n",
    "s.step(Direction.SOUTH)\n",
    "s.step(Direction.EAST)\n",
    "s.step(Direction.EAST)\n",
    "s.step(Direction.EAST)\n",
    "s.step(Direction.EAST)"
   ]
  },
  {
   "cell_type": "code",
   "execution_count": 7,
   "id": "dec58669",
   "metadata": {},
   "outputs": [],
   "source": [
    "class MonteCarloGeneration(object):\n",
    "    def __init__(self, env: object, max_steps: int = 1000, debug: bool = False):\n",
    "        self.env = env\n",
    "        self.max_steps = max_steps\n",
    "        self.debug = debug\n",
    "\n",
    "    def run(self) -> List:\n",
    "        buffer = []\n",
    "        n_steps = 0 # Keep track of the number of steps so I can bail out if it takes too long\n",
    "        state, _, _ = self.env.reset() # Reset environment back to start\n",
    "        terminal = False\n",
    "        while not terminal: # Run until terminal state\n",
    "            action = random.choice(self.env.action_space) # Random action. Try replacing this with Direction.EAST\n",
    "            next_state, reward, terminal = self.env.step(action) # Take action in environment\n",
    "            buffer.append((state, action, reward)) # Store the result\n",
    "            state = next_state # Ready for the next step\n",
    "            n_steps += 1\n",
    "            if n_steps >= self.max_steps:\n",
    "                if self.debug:\n",
    "                    print(\"Terminated early due to large number of steps\")\n",
    "            terminal = True # Bail out if we've been working for too long\n",
    "        return buffer"
   ]
  },
  {
   "cell_type": "code",
   "execution_count": 8,
   "id": "2dbe6614",
   "metadata": {},
   "outputs": [
    {
     "name": "stdout",
     "output_type": "stream",
     "text": [
      "x____\n",
      "_____\n",
      "_____\n",
      "_____\n",
      "____o\n",
      "\n",
      "x____\n",
      "_____\n",
      "_____\n",
      "_____\n",
      "____o\n",
      "\n",
      "_____\n",
      "x____\n",
      "_____\n",
      "_____\n",
      "____o\n",
      "\n",
      "['⬇']\n",
      "total reward: -1\n"
     ]
    }
   ],
   "source": [
    "env = SimpleGridWorld(debug=True) # Instantiate the environment\n",
    "generator = MonteCarloGeneration(env=env, max_steps=10, debug=True) # Instantiate the generation\n",
    "trajectory = generator.run() # Generate a trajectory\n",
    "print([t[1].value for t in trajectory]) # Print chosen actions\n",
    "print(f\"total reward: {sum([t[2] for t in trajectory])}\") # Print final reward"
   ]
  },
  {
   "cell_type": "code",
   "execution_count": 9,
   "id": "595e9390",
   "metadata": {},
   "outputs": [],
   "source": [
    "class MonteCarloExperiment(object):\n",
    "    def __init__(self, generator: MonteCarloGeneration):\n",
    "        self.generator = generator\n",
    "        self.values = defaultdict(float)\n",
    "        self.counts = defaultdict(float)\n",
    "\n",
    "    def _to_key(self, state, action):\n",
    "        return (state, action)\n",
    "  \n",
    "    def action_value(self, state, action) -> float:\n",
    "        key = self._to_key(state, action)\n",
    "        if self.counts[key] > 0:\n",
    "            return self.values[key] / self.counts[key]\n",
    "        else:\n",
    "            return 0.0"
   ]
  },
  {
   "cell_type": "code",
   "execution_count": 10,
   "id": "1fd89835",
   "metadata": {},
   "outputs": [],
   "source": [
    "class MonteCarloExperiment(MonteCarloExperiment):\n",
    "    def run_episode(self) -> None:\n",
    "        trajectory = self.generator.run() # Generate a trajectory\n",
    "        episode_reward = 0\n",
    "        for i, t in enumerate(reversed(trajectory)): # Starting from the terminal state\n",
    "            state, action, reward = t\n",
    "            key = self._to_key(state, action)\n",
    "            episode_reward += reward  # Add the reward to the buffer\n",
    "            self.values[key] += episode_reward # And add this to the value of this action\n",
    "            self.counts[key] += 1 # Increment counter"
   ]
  },
  {
   "cell_type": "code",
   "execution_count": 11,
   "id": "b7eeb338",
   "metadata": {},
   "outputs": [
    {
     "name": "stdout",
     "output_type": "stream",
     "text": [
      "Run 0:  [0.0, 0.0, 0.0, 0.0]\n",
      "Run 1:  [0.0, 0.0, 0.0, 0.0]\n",
      "Run 2:  [0.0, 0.0, 0.0, 0.0]\n",
      "Run 3:  [0.0, 0.0, 0.0, 0.0]\n"
     ]
    }
   ],
   "source": [
    "env = SimpleGridWorld(debug=False) # Instantiate the environment - set the debug to true to see the actual movemen of the agent.\n",
    "generator = MonteCarloGeneration(env=env, debug=True) # Instantiate the trajectory generator\n",
    "agent = MonteCarloExperiment(generator=generator)\n",
    "for i in range(4):\n",
    "    agent.run_episode()\n",
    "    print(f\"Run {i}: \", [agent.action_value(Point(3,0), d) for d in env.action_space])"
   ]
  },
  {
   "cell_type": "code",
   "execution_count": 12,
   "id": "2aeb99c4",
   "metadata": {},
   "outputs": [
    {
     "name": "stdout",
     "output_type": "stream",
     "text": [
      " -0.75 |   0.00 |   0.00 |   0.00 |   0.00 | \n",
      "  0.00 |   0.00 |   0.00 |   0.00 |   0.00 | \n",
      "  0.00 |   0.00 |   0.00 |   0.00 |   0.00 | \n",
      "  0.00 |   0.00 |   0.00 |   0.00 |   0.00 | \n",
      "  0.00 |   0.00 |   0.00 |   0.00 |    @   | \n",
      "\n"
     ]
    }
   ],
   "source": [
    "def state_value_2d(env, agent):\n",
    "    res = \"\"\n",
    "    for y in reversed(range(env.height)):\n",
    "        for x in range(env.width):\n",
    "            if env.goal.x == x and env.goal.y == y:\n",
    "                res += \"   @  \"\n",
    "            else:\n",
    "                state_value = sum([agent.action_value(Point(x,y), d) for d in env.action_space]) / len(env.action_space)\n",
    "                res += f'{state_value:6.2f}'\n",
    "            res += \" | \"\n",
    "        res += \"\\n\"\n",
    "    return res\n",
    "\n",
    "print(state_value_2d(env, agent))"
   ]
  },
  {
   "cell_type": "code",
   "execution_count": 13,
   "id": "e9244399",
   "metadata": {},
   "outputs": [
    {
     "name": "stdout",
     "output_type": "stream",
     "text": [
      "Iteration: 999\n",
      " -1.00 |   0.00 |   0.00 |   0.00 |   0.00 | \n",
      "  0.00 |   0.00 |   0.00 |   0.00 |   0.00 | \n",
      "  0.00 |   0.00 |   0.00 |   0.00 |   0.00 | \n",
      "  0.00 |   0.00 |   0.00 |   0.00 |   0.00 | \n",
      "  0.00 |   0.00 |   0.00 |   0.00 |    @   | \n",
      "\n"
     ]
    }
   ],
   "source": [
    "env = SimpleGridWorld() # Instantiate the environment\n",
    "generator = MonteCarloGeneration(env=env) # Instantiate the trajectory generator\n",
    "agent = MonteCarloExperiment(generator=generator)\n",
    "for i in range(1000):\n",
    "    clear_output(wait=True)\n",
    "    agent.run_episode()\n",
    "    print(f\"Iteration: {i}\")\n",
    "    # print([agent.action_value(Point(0,4), d) for d in env.action_space]) # Uncomment this line to see the actual values for a particular state\n",
    "    print(state_value_2d(env, agent), flush=True)\n",
    "    # time.sleep(0.1) # Uncomment this line if you want to see every episode"
   ]
  },
  {
   "cell_type": "code",
   "execution_count": 14,
   "id": "890a7c63",
   "metadata": {},
   "outputs": [
    {
     "name": "stdout",
     "output_type": "stream",
     "text": [
      "⬆ | ⬆ | ⬆ | ⬆ | ⬆ | \n",
      "⬆ | ⬆ | ⬆ | ⬆ | ⬆ | \n",
      "⬆ | ⬆ | ⬆ | ⬆ | ⬆ | \n",
      "⬆ | ⬆ | ⬆ | ⬆ | ⬆ | \n",
      "⬆ | ⬆ | ⬆ | ⬆ | @ | \n",
      "\n"
     ]
    }
   ],
   "source": [
    "def argmax(a):\n",
    "    return max(range(len(a)), key=lambda x: a[x])\n",
    "\n",
    "def next_best_value_2d(env, agent):\n",
    "    res = \"\"\n",
    "    for y in reversed(range(env.height)):\n",
    "        for x in range(env.width):\n",
    "            if env.goal.x == x and env.goal.y == y:\n",
    "                res += \"@\"\n",
    "            else:\n",
    "                # Find the action that has the highest value\n",
    "                loc = argmax([agent.action_value(Point(x,y), d) for d in env.action_space])\n",
    "                res += f'{env.action_space[loc].value}'\n",
    "            res += \" | \"\n",
    "        res += \"\\n\"\n",
    "    return res\n",
    "\n",
    "print(next_best_value_2d(env, agent))"
   ]
  },
  {
   "cell_type": "code",
   "execution_count": 15,
   "id": "f6d7f725",
   "metadata": {},
   "outputs": [
    {
     "name": "stdout",
     "output_type": "stream",
     "text": [
      "Iteration: 999\n",
      " -1.00 |   0.00 |   0.00 |   0.00 |   0.00 | \n",
      "  0.00 |   0.00 |   0.00 |   0.00 |   0.00 | \n",
      "  0.00 |   0.00 |   0.00 |   0.00 |   0.00 | \n",
      "  0.00 |   0.00 |   0.00 |   0.00 |   0.00 | \n",
      "  0.00 |   0.00 |   0.00 |   0.00 |    @   | \n",
      "\n",
      "⬆ | ⬆ | ⬆ | ⬆ | ⬆ | \n",
      "⬆ | ⬆ | ⬆ | ⬆ | ⬆ | \n",
      "⬆ | ⬆ | ⬆ | ⬆ | ⬆ | \n",
      "⬆ | ⬆ | ⬆ | ⬆ | ⬆ | \n",
      "⬆ | ⬆ | ⬆ | ⬆ | @ | \n",
      "\n"
     ]
    }
   ],
   "source": [
    "env = SimpleGridWorld() # Instantiate the environment\n",
    "generator = MonteCarloGeneration(env=env) # Instantiate the trajectory generator\n",
    "agent = MonteCarloExperiment(generator=generator)\n",
    "for i in range(1000):\n",
    "    clear_output(wait=True)\n",
    "    agent.run_episode()\n",
    "    print(f\"Iteration: {i}\")\n",
    "    print(state_value_2d(env, agent))\n",
    "    print(next_best_value_2d(env, agent), flush=True)\n",
    "    # time.sleep(0.1) # Uncomment this line if you want to see the iterations"
   ]
  },
  {
   "cell_type": "code",
   "execution_count": null,
   "id": "1983b83c",
   "metadata": {},
   "outputs": [],
   "source": []
  }
 ],
 "metadata": {
  "kernelspec": {
   "display_name": "Python 3 (ipykernel)",
   "language": "python",
   "name": "python3"
  },
  "language_info": {
   "codemirror_mode": {
    "name": "ipython",
    "version": 3
   },
   "file_extension": ".py",
   "mimetype": "text/x-python",
   "name": "python",
   "nbconvert_exporter": "python",
   "pygments_lexer": "ipython3",
   "version": "3.9.7"
  }
 },
 "nbformat": 4,
 "nbformat_minor": 5
}
